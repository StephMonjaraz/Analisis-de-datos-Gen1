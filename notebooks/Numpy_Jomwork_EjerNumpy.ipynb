{
 "cells": [
  {
   "cell_type": "markdown",
   "metadata": {
    "id": "AnjfrYcx4MCI"
   },
   "source": [
    "# **Tarea de Numpy**\n",
    "\n",
    "Este notebook es el de los ejercicios >:)"
   ]
  },
  {
   "cell_type": "code",
   "execution_count": 4,
   "metadata": {
    "colab": {
     "base_uri": "https://localhost:8080/"
    },
    "executionInfo": {
     "elapsed": 9511,
     "status": "ok",
     "timestamp": 1746659065345,
     "user": {
      "displayName": "David Elias González García",
      "userId": "10354222974665753730"
     },
     "user_tz": 360
    },
    "id": "qxKzpmVP8Lqs",
    "outputId": "7a48480b-7b6b-4905-a165-57dd0860d3c8"
   },
   "outputs": [
    {
     "name": "stdout",
     "output_type": "stream",
     "text": [
      "Requirement already satisfied: numpy in ./clase1/venv/lib/python3.8/site-packages (1.24.4)\n",
      "[1 2 3 4 5]\n",
      "3.0\n"
     ]
    }
   ],
   "source": [
    "!pip install numpy\n",
    "import numpy as np\n",
    "\n",
    "# Probando si si jala el numpy\n",
    "my_arreglow = np.array([1, 2, 3, 4, 5])\n",
    "\n",
    "print(my_arreglow)\n",
    "print(np.mean(my_arreglow))\n"
   ]
  },
  {
   "cell_type": "markdown",
   "metadata": {
    "id": "5bZxvLcH4Twv"
   },
   "source": [
    "## Ejercicios de refuerzo\n",
    "\n",
    "💙💻 **Jessica Stephanie Garcia Monjaraz** 💻💙"
   ]
  },
  {
   "cell_type": "markdown",
   "metadata": {
    "id": "0DKnt0XJ4b0j"
   },
   "source": [
    "### **Ejercicio 1 - Crear un array de ceros:**\n",
    "Crea un array de tamaño (3, 4) lleno de ceros."
   ]
  },
  {
   "cell_type": "code",
   "execution_count": 23,
   "metadata": {
    "id": "XpBz8hQx4LD7"
   },
   "outputs": [
    {
     "name": "stdout",
     "output_type": "stream",
     "text": [
      "Arreglo de ceros:\n",
      " [[0. 0. 0. 0.]\n",
      " [0. 0. 0. 0.]\n",
      " [0. 0. 0. 0.]]\n"
     ]
    }
   ],
   "source": [
    "# Solución (:\n",
    "\n",
    "arr_ceros = np.zeros((3, 4))\n",
    "print(\"Arreglo de ceros:\\n\", arr_ceros)"
   ]
  },
  {
   "cell_type": "markdown",
   "metadata": {
    "id": "3LhYSK4M91vQ"
   },
   "source": [
    "### **Ejercicio 2-  Suma de elementos:**\n",
    "   Dado el array [1, 2, 3, 4, 5], calcula la suma de todos sus elementos usando NumPy."
   ]
  },
  {
   "cell_type": "code",
   "execution_count": 8,
   "metadata": {
    "id": "l0s1XSEL98xf"
   },
   "outputs": [
    {
     "name": "stdout",
     "output_type": "stream",
     "text": [
      "La suma de elementos es: 15\n"
     ]
    }
   ],
   "source": [
    "# Solucion :)\n",
    "\n",
    "array_elemento = np.array([1, 2, 3, 4, 5])\n",
    "print(\"La suma de elementos es:\", np.sum(array_elemento))"
   ]
  },
  {
   "cell_type": "markdown",
   "metadata": {
    "id": "u1S6J4AI99Ae"
   },
   "source": [
    "### **Ejercicio 3 - Encontrar el máximo y mínimo:**\n",
    "Dado el array [10, 20, 30, 40, 50], encuentra el valor máximo y mínimo."
   ]
  },
  {
   "cell_type": "code",
   "execution_count": 13,
   "metadata": {
    "id": "rU0mZk0h-A0R"
   },
   "outputs": [
    {
     "name": "stdout",
     "output_type": "stream",
     "text": [
      "El valor minimo del arreglo es: 10\n",
      "El valor maximo del arreglo es: 50\n"
     ]
    }
   ],
   "source": [
    "array = np.array([10, 20, 30, 40, 50])\n",
    "\n",
    "# Solución:)\n",
    "\n",
    "print(\"El valor minimo del arreglo es:\", np.min(array))\n",
    "print(\"El valor maximo del arreglo es:\", np.max(array))"
   ]
  },
  {
   "cell_type": "markdown",
   "metadata": {
    "id": "lACW-PKX-BDd"
   },
   "source": [
    "### **Ejercicio 4 - Encontrar el máximo y mínimo:**\n",
    " Dado el array [10, 20, 30, 40, 50], encuentra el valor máximo y mínimo.\n"
   ]
  },
  {
   "cell_type": "code",
   "execution_count": 12,
   "metadata": {
    "id": "-qHvH7gJ-Ede"
   },
   "outputs": [
    {
     "name": "stdout",
     "output_type": "stream",
     "text": [
      "El valor minimo del arreglo es: 10\n",
      "El valor maximo del arreglo es: 50\n"
     ]
    }
   ],
   "source": [
    "# Solución:)\n",
    "\n",
    "array = np.array([10, 20, 30, 40, 50])\n",
    "\n",
    "print(\"El valor minimo del arreglo es:\", np.min(array))\n",
    "print(\"El valor maximo del arreglo es:\", np.max(array))\n"
   ]
  },
  {
   "cell_type": "markdown",
   "metadata": {
    "id": "ZkPxM1Wt-EmM"
   },
   "source": [
    "### **Ejercicio 5 - Generar números aleatorios:**\n",
    "  Genera un array de 5 números aleatorios entre 0 y 1."
   ]
  },
  {
   "cell_type": "code",
   "execution_count": 7,
   "metadata": {
    "id": "PBaN-yAp-Hu0"
   },
   "outputs": [
    {
     "name": "stdout",
     "output_type": "stream",
     "text": [
      "Array de 5 números aleatorios:\n",
      " [0.85403801 0.56177581 0.28487894 0.82368765 0.06570616]\n"
     ]
    }
   ],
   "source": [
    "# Solución:)\n",
    "  \n",
    "array_aleatorio = np.random.rand(5)\n",
    "# Entre 0 y 1 -> La función np.random.rand() genera números aleatorios \n",
    "# con distribución uniforme en el intervalo [0.0, 1.0). Este intervalo es el comportamiento por defecto,\n",
    "# por lo tanto no es necesario declarar explícitamente los límites.\n",
    "print(\"Array de 5 números aleatorios:\\n\",array_aleatorio)"
   ]
  },
  {
   "cell_type": "markdown",
   "metadata": {
    "id": "MEDxAgWLAE8Q"
   },
   "source": [
    "### **Ejercicio 6 - Promedio de un array:**\n",
    "Dado el array [5, 10, 15, 20, 25], calcula su promedio usando NumPy."
   ]
  },
  {
   "cell_type": "code",
   "execution_count": 6,
   "metadata": {
    "id": "HjnjecKuAOkN"
   },
   "outputs": [
    {
     "name": "stdout",
     "output_type": "stream",
     "text": [
      "El promedio del arreglo es: 15.0\n"
     ]
    }
   ],
   "source": [
    "#Solucion:)\n",
    "\n",
    "array_prom = np.array([5, 10, 15, 20, 25])\n",
    "print(\"El promedio del arreglo es:\", np.mean(array_prom))"
   ]
  },
  {
   "cell_type": "markdown",
   "metadata": {
    "id": "Z93kn0htAPZb"
   },
   "source": [
    "### **Ejercicio 7 - Concatenar dos arrays**\n",
    "Dados los arrays A = [1, 2, 3] y B = [4, 5, 6], concaténalos en un solo array."
   ]
  },
  {
   "cell_type": "code",
   "execution_count": 9,
   "metadata": {
    "id": "NzldaS9RAS45"
   },
   "outputs": [
    {
     "name": "stdout",
     "output_type": "stream",
     "text": [
      "Arreglo concatenado:\n",
      " [1 2 3 4 5 6]\n",
      "\n",
      "Arreglo concatenado:\n",
      " [1 2 3 4 5 6]\n"
     ]
    }
   ],
   "source": [
    "#Solucion:)\n",
    "\n",
    "array_uno = np.array ([1, 2, 3])\n",
    "array_dos = np.array ([4, 5, 6])\n",
    "array_con = np.concatenate((array_uno, array_dos))\n",
    "print(\"Arreglo concatenado:\\n\", array_con)\n",
    "# o reduciendo en el mismo print\n",
    "print(\"\\nArreglo concatenado:\\n\", np.concatenate((array_uno, array_dos)))"
   ]
  },
  {
   "cell_type": "markdown",
   "metadata": {
    "id": "bvTCzzFjAevg"
   },
   "source": [
    "### **Ejercicio 8 - Reshape de un Array**\n",
    "Dado el array [1, 2, 3, 4, 5, 6], cámbialo a una matriz de 2x3."
   ]
  },
  {
   "cell_type": "code",
   "execution_count": 17,
   "metadata": {
    "id": "0hfE1QUMAhB3"
   },
   "outputs": [
    {
     "name": "stdout",
     "output_type": "stream",
     "text": [
      "El arreglo reestructurado es:\n",
      " [[1 2 3]\n",
      " [4 5 6]]\n",
      "\n",
      "Arreglo reestructurado:\n",
      " [[1 2 3]\n",
      " [4 5 6]]\n"
     ]
    }
   ],
   "source": [
    "#Solución:)\n",
    "\n",
    "array_resh = np.array([1, 2, 3, 4, 5, 6])\n",
    "array_resh = array_resh.reshape(2, 3)\n",
    "print(\"El arreglo reestructurado es:\\n\", array_resh)\n",
    "# o reduciendo en el mismo print\n",
    "print(\"\\nArreglo reestructurado:\\n\", np.array([1, 2, 3, 4, 5, 6]).reshape(2, 3))"
   ]
  },
  {
   "cell_type": "markdown",
   "metadata": {
    "id": "By9zMuMyYMNA"
   },
   "source": [
    "### **Ejercicio 9 - Producto punto (dot product):**\n",
    "Dados dos arrays A = [1, 2, 3] y B = [4, 5, 6], calcula su producto punto"
   ]
  },
  {
   "cell_type": "code",
   "execution_count": 20,
   "metadata": {
    "id": "Vj-94PgAhpmk"
   },
   "outputs": [
    {
     "name": "stdout",
     "output_type": "stream",
     "text": [
      "El producto punto es: 32\n",
      "\n",
      "El producto punto es: 32\n"
     ]
    }
   ],
   "source": [
    "#Solución:)\n",
    "\n",
    "array_a= np.array([1, 2, 3])\n",
    "array_b= np.array([4, 5, 6])\n",
    "array_pp = np.dot(array_a, array_b)\n",
    "print(\"El producto punto es:\", array_pp)\n",
    "\n",
    "# en un solo print\n",
    "print(\"\\nEl producto punto es:\", np.dot(array_a, array_b))"
   ]
  },
  {
   "cell_type": "markdown",
   "metadata": {
    "id": "Z0UxB4reh4LU"
   },
   "source": [
    "### **Ejercicio 10 - Reorganizar un array:**\n",
    "Dado el array [1, 2, 3, 4, 5, 6, 7, 8, 9, 10], conviértelo en una matriz (2, 5)."
   ]
  },
  {
   "cell_type": "code",
   "execution_count": 24,
   "metadata": {
    "id": "GkjKd3SLh6Sf"
   },
   "outputs": [
    {
     "name": "stdout",
     "output_type": "stream",
     "text": [
      "El arreglo reorganizado es:\n",
      " [[ 1  2  3  4  5]\n",
      " [ 6  7  8  9 10]]\n"
     ]
    }
   ],
   "source": [
    "#Solución:)\n",
    "\n",
    "array_reorganized = np.array([1, 2, 3, 4, 5, 6, 7, 8, 9, 10])\n",
    "array_matriz = array_reorganized.reshape(2, 5)\n",
    "print(\"El arreglo reorganizado es:\\n\", array_matriz)\n"
   ]
  },
  {
   "cell_type": "markdown",
   "metadata": {
    "id": "MpTGrPV5iE1Z"
   },
   "source": [
    "### **Ejercicio extra - Encontrar el *k*-ésimo elemento más pequeño en un array**\n",
    "Dado arr = np.array([9, 3, 6, 2, 1, 7]), encuentra el 3er elemento más pequeño sin ordenar el array completo.\n",
    "\n",
    "**Pista solución 1**: Se puede hacer con un método de Numpy\n",
    "\n",
    "**Pista solución 2**: El código se hace más complicado, pero se puede resolver con ciclos iterativos."
   ]
  },
  {
   "cell_type": "code",
   "execution_count": 27,
   "metadata": {
    "id": "OYaMOW-jiLlX"
   },
   "outputs": [
    {
     "name": "stdout",
     "output_type": "stream",
     "text": [
      "Arreglo después de la partición: [1 2 3 6 9 7]\n",
      "El 3-ésimo elemento más pequeño es: 3\n"
     ]
    }
   ],
   "source": [
    "#Solucion :o\n",
    "arr = np.array([9, 3, 6, 2, 1, 7])\n",
    "\n",
    "\n",
    "k = 3 # para el 3er elemento más pequeño -> index 2\n",
    "\n",
    "# np.partition para reorganizar el array de manera parcial\n",
    "# Esto pone los k elementos más pequeños en las primeras posiciones, pero no los ordena por completo.\n",
    "# buscamos el k-1 elemento (por el index)\n",
    "resultado = np.partition(arr, k-1)\n",
    "print(\"Arreglo después de la partición:\", resultado) # solo acomoda los k elementos más pequeños al inicio\n",
    "k_esimo = resultado[k - 1]\n",
    "print(f\"El {k}-ésimo elemento más pequeño es:\", k_esimo) # imprimo el resultado usando un f-string\n",
    "# El prefijo 'f' es para indicar que es un f-string y asi puedo insertar directamente variables dentro \n",
    "# del texto usando llaves {}\n"
   ]
  },
  {
   "cell_type": "markdown",
   "metadata": {
    "id": "Unyrp8HOCtMh"
   },
   "source": [
    "## **Ejercicios aplicados**"
   ]
  },
  {
   "cell_type": "markdown",
   "metadata": {
    "id": "K1CPCb12GeCz"
   },
   "source": [
    "### **Ejercicio: Cálculo de ROI (Retorno de Inversión)**\n",
    "Dadas las inversiones ([1000, 1500, 2000]) y sus retornos ([1200, 1650, 1800]), calcula el ROI porcentual para cada caso.\n",
    "\n",
    "*(Fórmula: ROI = (retorno - inversión) / inversión * 100)*"
   ]
  },
  {
   "cell_type": "code",
   "execution_count": 33,
   "metadata": {
    "id": "6Eo-aN8bCwg1"
   },
   "outputs": [
    {
     "name": "stdout",
     "output_type": "stream",
     "text": [
      "Para una inversión de $1000 y un retorno de $1200, el ROI es: 20.00%\n",
      "Para una inversión de $1500 y un retorno de $1650, el ROI es: 10.00%\n",
      "Para una inversión de $2000 y un retorno de $1800, el ROI es: -10.00%\n"
     ]
    }
   ],
   "source": [
    "# Solucion del ROIROIROIROIORIORI\n",
    "\n",
    "inversiones = np.array([1000, 1500, 2000]) #arreglo de inversiones\n",
    "retornos = np.array([1200, 1650, 1800]) #arreglo de retornos\n",
    "\n",
    "#  ROI porcentual para cada inversión\n",
    "roi = ((retornos - inversiones) / inversiones) * 100\n",
    "\n",
    "# Recorrer los arreglos segun el numero de inversiones\n",
    "# len para saber el tamaño del arreglo y el range para recorrerlo\n",
    "for i in range(len(inversiones)):\n",
    "    print(f\"Para una inversión de ${inversiones[i]} y un retorno de ${retornos[i]}, el ROI es: {roi[i]:.2f}%\")\n"
   ]
  },
  {
   "cell_type": "markdown",
   "metadata": {
    "id": "3CfyZVv4GksC"
   },
   "source": [
    "### **Ejercicio: Normalización de Datos**\n",
    "Tienes un dataset de precios de productos (en USD): [250, 320, 150, 500, 210]. Normaliza los valores al rango [0, 1] para compararlos en una escala común.\n",
    "\n",
    "**Formulita de la normalización**: (x - min) / (max - min): Para una escala valores entre 0 y 1."
   ]
  },
  {
   "cell_type": "code",
   "execution_count": 41,
   "metadata": {
    "id": "afTic4_JGxAy"
   },
   "outputs": [
    {
     "name": "stdout",
     "output_type": "stream",
     "text": [
      "Precios originales: [250 320 150 500 210]\n",
      "Precios normalizados en el rango de [0, 1]:\n",
      " [0.286 0.486 0.    1.    0.171]\n"
     ]
    }
   ],
   "source": [
    "precios = np.array([250, 320, 150, 500, 210])\n",
    "\n",
    "min_precio = np.min(precios)\n",
    "max_precio = np.max(precios)\n",
    "\n",
    "\n",
    "precios_normalizados = (precios - min_precio) / (max_precio - min_precio)\n",
    "\n",
    "print(\"Precios originales:\", precios)\n",
    "print(\"Precios normalizados en el rango de [0, 1]:\\n\", np.round(precios_normalizados, 3))\n"
   ]
  },
  {
   "cell_type": "markdown",
   "metadata": {
    "id": "Px7Pdn7xHBAR"
   },
   "source": [
    "### **Ejercicio: Filtrado de Datos**\n",
    "En un array de ventas diarias ([1200, 0, 750, 2400, 0, 1800]), reemplaza los ceros (días sin ventas) por el promedio de los días con ventas."
   ]
  },
  {
   "cell_type": "code",
   "execution_count": null,
   "metadata": {
    "id": "rqwubxX-HFBX"
   },
   "outputs": [
    {
     "name": "stdout",
     "output_type": "stream",
     "text": [
      "Arreglo de ventas con ceros reemplazados por el promedio:\n",
      " [1200 1537  750 2400 1537 1800]\n"
     ]
    }
   ],
   "source": [
    "array_ventas = np.array([1200, 0, 750, 2400, 0, 1800])\n",
    "\n",
    "promedio_ventas = np.mean(array_ventas[array_ventas != 0]) # se calcula el promedio de los elementos\n",
    "# que no sean cero\n",
    "array_ventas[array_ventas == 0] = promedio_ventas # si el elemento es cero lo reemplaza por el promedio\n",
    "print(\"Arreglo de ventas con ceros reemplazados por el promedio:\\n\", array_ventas)\n"
   ]
  },
  {
   "cell_type": "markdown",
   "metadata": {
    "id": "dKK2wBEEdqzt"
   },
   "source": [
    "### **Ejercicio - Análisis de Presión Arterial**\n",
    "Tenemos un dataset de mediciones de presión arterial sistólica (mmHg) de 10 pacientes:\n",
    "[120, 135, 140, 118, 150, 130, 160, 125, 142, 128].\n",
    "\n",
    "Calculen:\n",
    "- Media y desviación estándar.\n",
    "- Identifiquen valores fuera del rango normal (90–140 mmHg)."
   ]
  },
  {
   "cell_type": "code",
   "execution_count": 53,
   "metadata": {
    "id": "RkYj4KJud0uu"
   },
   "outputs": [
    {
     "name": "stdout",
     "output_type": "stream",
     "text": [
      "Media de presión arterial: 134.80 mmHg\n",
      "Desviación estándar: 12.69 mmHg\n",
      "\n",
      "Valores fuera del rango normal (90–140 mmHg): [150 160 142]\n"
     ]
    }
   ],
   "source": [
    "array_pa = np.array([120, 135, 140, 118, 150, 130, 160, 125, 142, 128])\n",
    "\n",
    "media_pa = np.mean(array_pa) #primedio\n",
    "desviacion_pa = np.std(array_pa) #desviación estándar\n",
    "\n",
    "print(f\"Media de presión arterial: {media_pa:.2f} mmHg\")\n",
    "print(f\"Desviación estándar: {desviacion_pa:.2f} mmHg\")\n",
    "\n",
    "\n",
    "# Rangos normales de presión arterial\n",
    "limite_inferior = 90\n",
    "limite_superior = 140\n",
    "\n",
    "# Ubicar valores fuera del rango normal\n",
    "valores_fuera_rango = array_pa[(array_pa < limite_inferior) | (array_pa > limite_superior)]\n",
    "\n",
    "\n",
    "print(\"\\nValores fuera del rango normal (90–140 mmHg):\", valores_fuera_rango)"
   ]
  },
  {
   "cell_type": "markdown",
   "metadata": {
    "id": "ltzE201veNyz"
   },
   "source": [
    "### **Ejercicio - Cálculo del PIB per Cápita**\n",
    "Dados el PIB (en millones de USD) [500, 320, 700, 450] y la población (en millones) [10, 8, 12, 9] de 4 países, calculen el PIB per cápita y determinen el país con el mayor valor."
   ]
  },
  {
   "cell_type": "code",
   "execution_count": 65,
   "metadata": {
    "id": "TMl-OWMpeOcP"
   },
   "outputs": [
    {
     "name": "stdout",
     "output_type": "stream",
     "text": [
      "El PIB per cápita de cada país (en miles de USD) es de:\n",
      " [50.         40.         58.33333333 50.        ]\n",
      "\n",
      "\n",
      "El país con el mayor PIB per cápita es el país #3 con un valor de 58.33 millones de USD.\n"
     ]
    }
   ],
   "source": [
    "pib = np.array([500, 320, 700, 450]) # millones de USD\n",
    "poblacion = np.array([10, 8, 12, 9]) #millones de personas\n",
    "\n",
    "pib_per_capita = pib / poblacion  # División elemento a elemento del array pib/ array poblacion\n",
    "\n",
    "\n",
    "print(\"El PIB per cápita de cada país (en miles de USD) es de:\\n\", pib_per_capita)\n",
    "\n",
    "# índice del país con mayor PIB per cápita\n",
    "indice_mayor = np.argmax(pib_per_capita) # argmax nos da el índice del valor máximo en el array\n",
    "# ya que el indice empieza en 0, le sumamos 1 \n",
    "print(f\"\\n\\nEl país con el mayor PIB per cápita es el país #{indice_mayor + 1} con un valor de {pib_per_capita[indice_mayor]:.2f} millones de USD.\")\n"
   ]
  },
  {
   "cell_type": "markdown",
   "metadata": {
    "id": "7AP-dS9HgAO9"
   },
   "source": [
    "### **Ejercicio - Sistema de Drops (Probabilidades)**\n",
    "En un videojuego RPG, los enemigos al ser vencidos, pueden dropear (soltar):\n",
    "- 0 = Nada (50%).\n",
    "- 1 = Poción (30%).\n",
    "- 2 = Arma (15%).\n",
    "- 3 = Artefacto (5%).\n",
    "\n",
    "Simula 100 drops y cuenta cuántos artefactos se obtuvieron.\n",
    "\n",
    "*Ejemplo de salida*:\n",
    "\n",
    "```\n",
    "Artifactos obtenidos: 3\n",
    "```\n",
    "\n"
   ]
  },
  {
   "cell_type": "code",
   "execution_count": 69,
   "metadata": {
    "id": "828OGOwUgPBV"
   },
   "outputs": [
    {
     "name": "stdout",
     "output_type": "stream",
     "text": [
      "Artefactos obtenidos: 4\n"
     ]
    }
   ],
   "source": [
    "tipos_drop = np.array([0, 1, 2, 3])\n",
    "\n",
    "proba_drop = np.array([0.5, 0.3, 0.15, 0.05])\n",
    "\n",
    "# usamos random.choice para simular las probabilidades de cada tipo de drop\n",
    "array_drops = np.random.choice(tipos_drop, size=100, p=proba_drop)\n",
    "\n",
    "cantidad_artefactos = np.sum(array_drops == 3) #sumamos los elementos que son iguales a 3\n",
    "\n",
    "\n",
    "print(f\"Artefactos obtenidos: {cantidad_artefactos}\")\n"
   ]
  }
 ],
 "metadata": {
  "colab": {
   "provenance": []
  },
  "kernelspec": {
   "display_name": "venv",
   "language": "python",
   "name": "python3"
  },
  "language_info": {
   "codemirror_mode": {
    "name": "ipython",
    "version": 3
   },
   "file_extension": ".py",
   "mimetype": "text/x-python",
   "name": "python",
   "nbconvert_exporter": "python",
   "pygments_lexer": "ipython3",
   "version": "3.8.10"
  }
 },
 "nbformat": 4,
 "nbformat_minor": 0
}
